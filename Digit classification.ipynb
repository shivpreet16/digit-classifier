{
 "cells": [
  {
   "cell_type": "code",
   "execution_count": 2,
   "id": "d7e29948",
   "metadata": {},
   "outputs": [
    {
     "name": "stdout",
     "output_type": "stream",
     "text": [
      "Training on CPU\n"
     ]
    }
   ],
   "source": [
    "import torch\n",
    "import numpy as np\n",
    "import matplotlib.pyplot as plt\n",
    "from torchvision import datasets, transforms\n",
    "\n",
    "train_on_gpu = torch.cuda.is_available()\n",
    "\n",
    "if train_on_gpu:\n",
    "    print(\"Training on GPU\")\n",
    "else:\n",
    "    print(\"Training on CPU\")"
   ]
  },
  {
   "cell_type": "markdown",
   "id": "2110a8ce",
   "metadata": {},
   "source": [
    "## Load the dataset\n",
    "\n",
    "We are using MNIST dataset"
   ]
  },
  {
   "cell_type": "code",
   "execution_count": 3,
   "id": "1016041f",
   "metadata": {},
   "outputs": [],
   "source": [
    "#transforming data into torch tensors\n",
    "from random import shuffle\n",
    "\n",
    "\n",
    "transform = transforms.Compose([transforms.ToTensor()])\n",
    "\n",
    "#download and load the training data\n",
    "trainset = datasets.MNIST('~/.pytorch/MNIST_data/', download=True, train=True, transform=transform)\n",
    "trainloader = torch.utils.data.DataLoader(trainset, batch_size=32, shuffle= True)\n",
    "\n",
    "#download and load the Test data\n",
    "testset = datasets.MNIST('~/.pytorch/MNIST_data/', download=True, train=True, transform=transform)\n",
    "testloader = torch.utils.data.DataLoader(testset, batch_size=32, shuffle= True)"
   ]
  },
  {
   "cell_type": "markdown",
   "id": "e00a3e73",
   "metadata": {},
   "source": [
    "## Define the network"
   ]
  },
  {
   "cell_type": "code",
   "execution_count": 4,
   "id": "19d65ff3",
   "metadata": {},
   "outputs": [],
   "source": [
    "import torch.nn as nn\n",
    "import torch.nn.functional as F"
   ]
  },
  {
   "cell_type": "code",
   "execution_count": 5,
   "id": "fffefedd",
   "metadata": {},
   "outputs": [
    {
     "name": "stdout",
     "output_type": "stream",
     "text": [
      "Network(\n",
      "  (fc1): Linear(in_features=784, out_features=120, bias=True)\n",
      "  (fc2): Linear(in_features=120, out_features=84, bias=True)\n",
      "  (fc3): Linear(in_features=84, out_features=10, bias=True)\n",
      ")\n"
     ]
    }
   ],
   "source": [
    "class Network(nn.Module):\n",
    "    def __init__(self):\n",
    "        super(Network, self).__init__()\n",
    "        self.fc1 = nn.Linear(784, 120)\n",
    "        self.fc2 = nn.Linear(120, 84)\n",
    "        self.fc3 = nn.Linear(84, 10)\n",
    "\n",
    "    def forward(self, x):\n",
    "        x = F.relu(self.fc1(x))\n",
    "        x = F.relu(self.fc2(x))\n",
    "        x = self.fc3(x)\n",
    "        x = nn.LogSoftmax(dim=1)(x)\n",
    "        return x\n",
    "\n",
    "net = Network()\n",
    "print(net)"
   ]
  },
  {
   "cell_type": "code",
   "execution_count": 6,
   "id": "15400b6d",
   "metadata": {},
   "outputs": [
    {
     "data": {
      "text/plain": [
       "Network(\n",
       "  (fc1): Linear(in_features=784, out_features=120, bias=True)\n",
       "  (fc2): Linear(in_features=120, out_features=84, bias=True)\n",
       "  (fc3): Linear(in_features=84, out_features=10, bias=True)\n",
       ")"
      ]
     },
     "execution_count": 6,
     "metadata": {},
     "output_type": "execute_result"
    }
   ],
   "source": [
    "#loss function\n",
    "criterion = nn.NLLLoss()\n",
    "net.to(torch.device('cpu'))"
   ]
  },
  {
   "cell_type": "code",
   "execution_count": 7,
   "id": "df87d253",
   "metadata": {},
   "outputs": [],
   "source": [
    "#optimizer\n",
    "from torch import optim\n",
    "optimizer = optim.SGD(net.parameters(), lr=0.003)"
   ]
  },
  {
   "cell_type": "markdown",
   "id": "09d64007",
   "metadata": {},
   "source": [
    "# Training the Model"
   ]
  },
  {
   "cell_type": "code",
   "execution_count": 8,
   "id": "b7790a7d",
   "metadata": {},
   "outputs": [
    {
     "name": "stdout",
     "output_type": "stream",
     "text": [
      "epoch: 1/15.. training loss: 2.146.. Test Loss: 1.745.. Test Accuracy: 0.660..\n",
      "epoch: 2/15.. training loss: 1.059.. Test Loss: 0.658.. Test Accuracy: 0.828..\n",
      "epoch: 3/15.. training loss: 0.545.. Test Loss: 0.469.. Test Accuracy: 0.871..\n",
      "epoch: 4/15.. training loss: 0.430.. Test Loss: 0.399.. Test Accuracy: 0.889..\n",
      "epoch: 5/15.. training loss: 0.380.. Test Loss: 0.361.. Test Accuracy: 0.899..\n",
      "epoch: 6/15.. training loss: 0.350.. Test Loss: 0.338.. Test Accuracy: 0.904..\n",
      "epoch: 7/15.. training loss: 0.330.. Test Loss: 0.319.. Test Accuracy: 0.909..\n",
      "epoch: 8/15.. training loss: 0.314.. Test Loss: 0.306.. Test Accuracy: 0.913..\n",
      "epoch: 9/15.. training loss: 0.301.. Test Loss: 0.294.. Test Accuracy: 0.915..\n",
      "epoch: 10/15.. training loss: 0.289.. Test Loss: 0.282.. Test Accuracy: 0.919..\n",
      "epoch: 11/15.. training loss: 0.279.. Test Loss: 0.274.. Test Accuracy: 0.922..\n",
      "epoch: 12/15.. training loss: 0.270.. Test Loss: 0.263.. Test Accuracy: 0.925..\n",
      "epoch: 13/15.. training loss: 0.262.. Test Loss: 0.256.. Test Accuracy: 0.927..\n",
      "epoch: 14/15.. training loss: 0.253.. Test Loss: 0.248.. Test Accuracy: 0.929..\n",
      "epoch: 15/15.. training loss: 0.245.. Test Loss: 0.240.. Test Accuracy: 0.932..\n"
     ]
    }
   ],
   "source": [
    "epochs = 15 #number of time the model trains\n",
    "steps = 0\n",
    "\n",
    "train_losses, test_losses = [],[]\n",
    "for e in range(epochs):\n",
    "    running_loss = 0\n",
    "    \n",
    "    net.train()\n",
    "    \n",
    "    for images, labels in trainloader:\n",
    "        #flatten Image\n",
    "        images = images.view(images.shape[0], -1)\n",
    "\n",
    "        #clear gradients\n",
    "        optimizer.zero_grad()\n",
    "\n",
    "        #forward pass\n",
    "        log_ps = net(images)\n",
    "\n",
    "        #loss and weights\n",
    "        loss = criterion(log_ps, labels)\n",
    "\n",
    "        #calc gredients\n",
    "        loss.backward()\n",
    "\n",
    "        #update weights\n",
    "        optimizer.step()\n",
    "        running_loss += loss.item()\n",
    "    \n",
    "    else:\n",
    "        test_loss = 0\n",
    "        accuracy = 0\n",
    "\n",
    "        #Turn off gradients for validation, saves memory and computations\n",
    "        net.eval()\n",
    "        with torch.no_grad():\n",
    "            for images, labels in testloader:\n",
    "                images = images.view(images.shape[0], -1)\n",
    "\n",
    "                log_ps = net(images)\n",
    "                test_loss += criterion(log_ps, labels) \n",
    "\n",
    "                ps = torch.exp(log_ps)\n",
    "                top_p, top_class = ps.topk(1, dim=1)\n",
    "                equals = top_class == labels.view(*top_class.shape)\n",
    "                accuracy += torch.mean(equals.type(torch.FloatTensor))\n",
    "        \n",
    "        train_losses.append(running_loss/len(trainloader))\n",
    "        test_losses.append(test_loss/len(testloader))\n",
    "\n",
    "        print(\"epoch: {}/{}..\".format(e+1, epochs),\n",
    "              \"training loss: {:.3f}..\".format(running_loss/len(trainloader)),\n",
    "              \"Test Loss: {:.3f}..\".format(test_loss/len(testloader)),\n",
    "              \"Test Accuracy: {:.3f}..\".format(accuracy/len(testloader)))"
   ]
  },
  {
   "cell_type": "code",
   "execution_count": 16,
   "id": "59029ff2",
   "metadata": {},
   "outputs": [
    {
     "name": "stdout",
     "output_type": "stream",
     "text": [
      "predicted number is:3\n"
     ]
    },
    {
     "data": {
      "text/plain": [
       "<function matplotlib.pyplot.show(close=None, block=None)>"
      ]
     },
     "execution_count": 16,
     "metadata": {},
     "output_type": "execute_result"
    },
    {
     "data": {
      "image/png": "[encoded data removed]",
      "text/plain": [
       "<Figure size 432x288 with 1 Axes>"
      ]
     },
     "metadata": {
      "needs_background": "light"
     },
     "output_type": "display_data"
    }
   ],
   "source": [
    "idx =0\n",
    "dataiter = iter(testloader)\n",
    "images, labels = next(dataiter)\n",
    "img = images[idx].view(1,784)\n",
    "\n",
    "ps = torch.exp(net(img))\n",
    "print(f'predicted number is:{int(torch.argmax(ps))}')\n",
    "plt.imshow(images[idx].view(28,28))\n",
    "plt.show"
   ]
  },
  {
   "cell_type": "code",
   "execution_count": null,
   "id": "773cafc7",
   "metadata": {},
   "outputs": [],
   "source": []
  }
 ],
 "metadata": {
  "kernelspec": {
   "display_name": "Python 3 (ipykernel)",
   "language": "python",
   "name": "python3"
  },
  "language_info": {
   "codemirror_mode": {
    "name": "ipython",
    "version": 3
   },
   "file_extension": ".py",
   "mimetype": "text/x-python",
   "name": "python",
   "nbconvert_exporter": "python",
   "pygments_lexer": "ipython3",
   "version": "3.9.12"
  },
  "vscode": {
   "interpreter": {
    "hash": "a90aeebcf29d64a654773811cc170cb25061cb2498f10ac689db374c7bf325de"
   }
  }
 },
 "nbformat": 4,
 "nbformat_minor": 5
}
